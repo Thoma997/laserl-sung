{
 "cells": [
  {
   "cell_type": "code",
   "execution_count": 186,
   "metadata": {},
   "outputs": [],
   "source": [
    "import tensorflow as ts\n",
    "import keras as ks\n",
    "from keras.layers import Dense, Activation\n",
    "import pandas as pd\n",
    "import csv\n",
    "import numpy as np\n",
    "from keras import backend as K\n",
    "from keras.utils.generic_utils import get_custom_objects"
   ]
  },
  {
   "cell_type": "code",
   "execution_count": 187,
   "metadata": {},
   "outputs": [],
   "source": [
    "def binary_step(x):\n",
    "    if x > 0: \n",
    "        return 1 \n",
    "    else: \n",
    "        return 0\n",
    "\n",
    "get_custom_objects().update({'binary_step': Activation(binary_step)})"
   ]
  },
  {
   "cell_type": "code",
   "execution_count": 188,
   "metadata": {},
   "outputs": [],
   "source": [
    "data = pd.read_csv('/Users/Vito/Desktop/HackAThon/Trumpf/TRUMPF_TruLaserCenter7030/TRUMPF_TruLaserCenter_Dataset_2018.csv')"
   ]
  },
  {
   "cell_type": "code",
   "execution_count": 189,
   "metadata": {},
   "outputs": [],
   "source": [
    "data = data.drop(['DataID', 'id_00002_name_lst', 'id_00003_name_teil', 'id_00004_maschinennummer', 'id_00005_entnum', 'id_00006_framework_version', 'id_01004_cut_tech', 'id_13001_date'], axis=1)"
   ]
  },
  {
   "cell_type": "code",
   "execution_count": 190,
   "metadata": {},
   "outputs": [
    {
     "data": {
      "text/plain": [
       "92"
      ]
     },
     "execution_count": 190,
     "metadata": {},
     "output_type": "execute_result"
    }
   ],
   "source": [
    "data.shape[1]"
   ]
  },
  {
   "cell_type": "code",
   "execution_count": 191,
   "metadata": {},
   "outputs": [],
   "source": [
    "my_init = ks.initializers.glorot_uniform(seed=1)"
   ]
  },
  {
   "cell_type": "code",
   "execution_count": 192,
   "metadata": {},
   "outputs": [],
   "source": [
    "y = data['id_13008_RGT_erfolgreich_1try']\n",
    "data = data.drop('id_13008_RGT_erfolgreich_1try', axis=1)"
   ]
  },
  {
   "cell_type": "code",
   "execution_count": 193,
   "metadata": {},
   "outputs": [],
   "source": [
    "x = data"
   ]
  },
  {
   "cell_type": "code",
   "execution_count": 194,
   "metadata": {},
   "outputs": [],
   "source": [
    "model = ks.Sequential()"
   ]
  },
  {
   "cell_type": "code",
   "execution_count": 195,
   "metadata": {},
   "outputs": [],
   "source": [
    "model.add(Dense(91, input_dim=91, kernel_initializer=my_init, activation='tanh'))\n",
    "model.add(Dense(182, activation='tanh', kernel_initializer=my_init))\n",
    "model.add(Dense(182, activation='tanh', kernel_initializer=my_init))\n",
    "model.add(Dense(1 ,activation='sigmoid', kernel_initializer=my_init))"
   ]
  },
  {
   "cell_type": "code",
   "execution_count": 196,
   "metadata": {},
   "outputs": [],
   "source": [
    "simple_sgd = ks.optimizers.SGD(lr=0.01)"
   ]
  },
  {
   "cell_type": "code",
   "execution_count": 197,
   "metadata": {},
   "outputs": [],
   "source": [
    "model.compile(loss='binary_crossentropy', optimizer=simple_sgd, metrics=['accuracy'])"
   ]
  },
  {
   "cell_type": "code",
   "execution_count": 198,
   "metadata": {},
   "outputs": [
    {
     "name": "stdout",
     "output_type": "stream",
     "text": [
      "Epoch 1/100\n",
      "121085/121085 [==============================] - 3s 26us/step - loss: nan - acc: 0.0035\n",
      "Epoch 2/100\n",
      "121085/121085 [==============================] - 2s 16us/step - loss: nan - acc: 0.0000e+00\n",
      "Epoch 3/100\n",
      "121085/121085 [==============================] - 2s 15us/step - loss: nan - acc: 0.0000e+00\n",
      "Epoch 4/100\n",
      "121085/121085 [==============================] - 2s 15us/step - loss: nan - acc: 0.0000e+00\n",
      "Epoch 5/100\n",
      "121085/121085 [==============================] - 2s 19us/step - loss: nan - acc: 0.0000e+00\n",
      "Epoch 6/100\n",
      "121085/121085 [==============================] - 2s 16us/step - loss: nan - acc: 0.0000e+00\n",
      "Epoch 7/100\n",
      "121085/121085 [==============================] - 2s 17us/step - loss: nan - acc: 0.0000e+00\n",
      "Epoch 8/100\n",
      "121085/121085 [==============================] - 2s 16us/step - loss: nan - acc: 0.0000e+00\n",
      "Epoch 9/100\n",
      "121085/121085 [==============================] - 2s 18us/step - loss: nan - acc: 0.0000e+00\n",
      "Epoch 10/100\n",
      "121085/121085 [==============================] - 2s 16us/step - loss: nan - acc: 0.0000e+00\n",
      "Epoch 11/100\n",
      "121085/121085 [==============================] - 2s 15us/step - loss: nan - acc: 0.0000e+00\n",
      "Epoch 12/100\n",
      "121085/121085 [==============================] - 2s 15us/step - loss: nan - acc: 0.0000e+00\n",
      "Epoch 13/100\n",
      "121085/121085 [==============================] - 2s 15us/step - loss: nan - acc: 0.0000e+00\n",
      "Epoch 14/100\n",
      "121085/121085 [==============================] - 2s 16us/step - loss: nan - acc: 0.0000e+00\n",
      "Epoch 15/100\n",
      "121085/121085 [==============================] - 2s 14us/step - loss: nan - acc: 0.0000e+00\n",
      "Epoch 16/100\n",
      "121085/121085 [==============================] - 2s 16us/step - loss: nan - acc: 0.0000e+00\n",
      "Epoch 17/100\n",
      "121085/121085 [==============================] - 2s 15us/step - loss: nan - acc: 0.0000e+00\n",
      "Epoch 18/100\n",
      "121085/121085 [==============================] - 2s 17us/step - loss: nan - acc: 0.0000e+00\n",
      "Epoch 19/100\n",
      "121085/121085 [==============================] - 2s 15us/step - loss: nan - acc: 0.0000e+00\n",
      "Epoch 20/100\n",
      "121085/121085 [==============================] - 2s 15us/step - loss: nan - acc: 0.0000e+00\n",
      "Epoch 21/100\n",
      "121085/121085 [==============================] - 1551s 13ms/step - loss: nan - acc: 0.0000e+00\n",
      "Epoch 22/100\n",
      "121085/121085 [==============================] - 3s 27us/step - loss: nan - acc: 0.0000e+00\n",
      "Epoch 23/100\n",
      "121085/121085 [==============================] - 2s 15us/step - loss: nan - acc: 0.0000e+00\n",
      "Epoch 24/100\n",
      "121085/121085 [==============================] - 2s 17us/step - loss: nan - acc: 0.0000e+00\n",
      "Epoch 25/100\n",
      "121085/121085 [==============================] - 2s 20us/step - loss: nan - acc: 0.0000e+00 0s - l\n",
      "Epoch 26/100\n",
      "121085/121085 [==============================] - 2s 19us/step - loss: nan - acc: 0.0000e+00\n",
      "Epoch 27/100\n",
      "121085/121085 [==============================] - 2s 16us/step - loss: nan - acc: 0.0000e+00\n",
      "Epoch 28/100\n",
      "121085/121085 [==============================] - 2s 16us/step - loss: nan - acc: 0.0000e+00\n",
      "Epoch 29/100\n",
      "121085/121085 [==============================] - 2s 16us/step - loss: nan - acc: 0.0000e+00\n",
      "Epoch 30/100\n",
      "121085/121085 [==============================] - 2s 16us/step - loss: nan - acc: 0.0000e+00\n",
      "Epoch 31/100\n",
      "121085/121085 [==============================] - 2s 16us/step - loss: nan - acc: 0.0000e+00\n",
      "Epoch 32/100\n",
      "121085/121085 [==============================] - 2s 17us/step - loss: nan - acc: 0.0000e+00\n",
      "Epoch 33/100\n",
      "121085/121085 [==============================] - 3s 25us/step - loss: nan - acc: 0.0000e+00\n",
      "Epoch 34/100\n",
      "121085/121085 [==============================] - 3s 22us/step - loss: nan - acc: 0.0000e+00\n",
      "Epoch 35/100\n",
      "121085/121085 [==============================] - 2s 20us/step - loss: nan - acc: 0.0000e+00\n",
      "Epoch 36/100\n",
      "121085/121085 [==============================] - 3s 22us/step - loss: nan - acc: 0.0000e+00\n",
      "Epoch 37/100\n",
      "121085/121085 [==============================] - 3s 21us/step - loss: nan - acc: 0.0000e+00\n",
      "Epoch 38/100\n",
      "121085/121085 [==============================] - 2s 20us/step - loss: nan - acc: 0.0000e+00\n",
      "Epoch 39/100\n",
      "121085/121085 [==============================] - 3s 21us/step - loss: nan - acc: 0.0000e+00\n",
      "Epoch 40/100\n",
      "121085/121085 [==============================] - 2s 21us/step - loss: nan - acc: 0.0000e+00\n",
      "Epoch 41/100\n",
      "121085/121085 [==============================] - 2s 19us/step - loss: nan - acc: 0.0000e+00\n",
      "Epoch 42/100\n",
      "121085/121085 [==============================] - 2s 18us/step - loss: nan - acc: 0.0000e+00\n",
      "Epoch 43/100\n",
      "121085/121085 [==============================] - 2s 18us/step - loss: nan - acc: 0.0000e+00\n",
      "Epoch 44/100\n",
      "121085/121085 [==============================] - 2s 16us/step - loss: nan - acc: 0.0000e+00\n",
      "Epoch 45/100\n",
      "121085/121085 [==============================] - 2s 16us/step - loss: nan - acc: 0.0000e+00\n",
      "Epoch 46/100\n",
      "121085/121085 [==============================] - 2s 16us/step - loss: nan - acc: 0.0000e+00\n",
      "Epoch 47/100\n",
      "121085/121085 [==============================] - 2s 16us/step - loss: nan - acc: 0.0000e+00\n",
      "Epoch 48/100\n",
      "121085/121085 [==============================] - 2s 17us/step - loss: nan - acc: 0.0000e+00\n",
      "Epoch 49/100\n",
      "121085/121085 [==============================] - 2s 16us/step - loss: nan - acc: 0.0000e+00\n",
      "Epoch 50/100\n",
      "121085/121085 [==============================] - 2s 17us/step - loss: nan - acc: 0.0000e+00\n",
      "Epoch 51/100\n",
      "121085/121085 [==============================] - 2s 16us/step - loss: nan - acc: 0.0000e+00\n",
      "Epoch 52/100\n",
      "121085/121085 [==============================] - 2s 17us/step - loss: nan - acc: 0.0000e+00\n",
      "Epoch 53/100\n",
      "121085/121085 [==============================] - 2s 16us/step - loss: nan - acc: 0.0000e+00\n",
      "Epoch 54/100\n",
      "121085/121085 [==============================] - 2s 17us/step - loss: nan - acc: 0.0000e+00\n",
      "Epoch 55/100\n",
      "121085/121085 [==============================] - 2s 15us/step - loss: nan - acc: 0.0000e+00\n",
      "Epoch 56/100\n",
      "121085/121085 [==============================] - 2s 16us/step - loss: nan - acc: 0.0000e+00\n",
      "Epoch 57/100\n",
      "121085/121085 [==============================] - 2s 15us/step - loss: nan - acc: 0.0000e+00\n",
      "Epoch 58/100\n",
      "121085/121085 [==============================] - 2s 15us/step - loss: nan - acc: 0.0000e+00\n",
      "Epoch 59/100\n",
      "121085/121085 [==============================] - 2s 16us/step - loss: nan - acc: 0.0000e+00\n",
      "Epoch 60/100\n",
      "121085/121085 [==============================] - 2s 16us/step - loss: nan - acc: 0.0000e+00\n",
      "Epoch 61/100\n",
      "121085/121085 [==============================] - 2s 17us/step - loss: nan - acc: 0.0000e+00\n",
      "Epoch 62/100\n",
      "121085/121085 [==============================] - 2s 19us/step - loss: nan - acc: 0.0000e+00\n",
      "Epoch 63/100\n",
      "121085/121085 [==============================] - 2s 14us/step - loss: nan - acc: 0.0000e+00\n",
      "Epoch 64/100\n",
      "121085/121085 [==============================] - 2s 14us/step - loss: nan - acc: 0.0000e+00\n",
      "Epoch 65/100\n",
      "121085/121085 [==============================] - 2s 14us/step - loss: nan - acc: 0.0000e+00\n",
      "Epoch 66/100\n",
      "121085/121085 [==============================] - 2s 14us/step - loss: nan - acc: 0.0000e+00\n",
      "Epoch 67/100\n",
      "121085/121085 [==============================] - 2s 14us/step - loss: nan - acc: 0.0000e+00\n",
      "Epoch 68/100\n",
      "121085/121085 [==============================] - 2s 15us/step - loss: nan - acc: 0.0000e+00\n",
      "Epoch 69/100\n",
      "121085/121085 [==============================] - 2s 14us/step - loss: nan - acc: 0.0000e+00\n",
      "Epoch 70/100\n",
      "121085/121085 [==============================] - 2s 14us/step - loss: nan - acc: 0.0000e+00\n",
      "Epoch 71/100\n",
      "121085/121085 [==============================] - 2s 15us/step - loss: nan - acc: 0.0000e+00\n",
      "Epoch 72/100\n",
      "121085/121085 [==============================] - 2s 14us/step - loss: nan - acc: 0.0000e+00\n",
      "Epoch 73/100\n",
      "121085/121085 [==============================] - 2s 14us/step - loss: nan - acc: 0.0000e+00\n",
      "Epoch 74/100\n",
      "121085/121085 [==============================] - 2s 15us/step - loss: nan - acc: 0.0000e+00\n",
      "Epoch 75/100\n",
      "121085/121085 [==============================] - 2s 14us/step - loss: nan - acc: 0.0000e+00\n",
      "Epoch 76/100\n",
      "121085/121085 [==============================] - 2s 16us/step - loss: nan - acc: 0.0000e+00\n",
      "Epoch 77/100\n",
      "121085/121085 [==============================] - 2s 16us/step - loss: nan - acc: 0.0000e+00\n",
      "Epoch 78/100\n",
      "121085/121085 [==============================] - 2s 14us/step - loss: nan - acc: 0.0000e+00\n",
      "Epoch 79/100\n"
     ]
    },
    {
     "name": "stdout",
     "output_type": "stream",
     "text": [
      "121085/121085 [==============================] - 2s 14us/step - loss: nan - acc: 0.0000e+00\n",
      "Epoch 80/100\n",
      "121085/121085 [==============================] - 2s 15us/step - loss: nan - acc: 0.0000e+00\n",
      "Epoch 81/100\n",
      "121085/121085 [==============================] - 2s 14us/step - loss: nan - acc: 0.0000e+00\n",
      "Epoch 82/100\n",
      "121085/121085 [==============================] - 2s 15us/step - loss: nan - acc: 0.0000e+00\n",
      "Epoch 83/100\n",
      "121085/121085 [==============================] - 2s 17us/step - loss: nan - acc: 0.0000e+00\n",
      "Epoch 84/100\n",
      "121085/121085 [==============================] - 2s 16us/step - loss: nan - acc: 0.0000e+00\n",
      "Epoch 85/100\n",
      "121085/121085 [==============================] - 2s 16us/step - loss: nan - acc: 0.0000e+00\n",
      "Epoch 86/100\n",
      "121085/121085 [==============================] - 2s 14us/step - loss: nan - acc: 0.0000e+00\n",
      "Epoch 87/100\n",
      "121085/121085 [==============================] - 2s 14us/step - loss: nan - acc: 0.0000e+00\n",
      "Epoch 88/100\n",
      "121085/121085 [==============================] - 2s 15us/step - loss: nan - acc: 0.0000e+00\n",
      "Epoch 89/100\n",
      "121085/121085 [==============================] - 2s 14us/step - loss: nan - acc: 0.0000e+00\n",
      "Epoch 90/100\n",
      "121085/121085 [==============================] - 2s 14us/step - loss: nan - acc: 0.0000e+00\n",
      "Epoch 91/100\n",
      "121085/121085 [==============================] - 2s 15us/step - loss: nan - acc: 0.0000e+00\n",
      "Epoch 92/100\n",
      "121085/121085 [==============================] - 2s 14us/step - loss: nan - acc: 0.0000e+00\n",
      "Epoch 93/100\n",
      "121085/121085 [==============================] - 2s 14us/step - loss: nan - acc: 0.0000e+00\n",
      "Epoch 94/100\n",
      "121085/121085 [==============================] - 2s 18us/step - loss: nan - acc: 0.0000e+00\n",
      "Epoch 95/100\n",
      "121085/121085 [==============================] - 3s 21us/step - loss: nan - acc: 0.0000e+00\n",
      "Epoch 96/100\n",
      "121085/121085 [==============================] - 2s 20us/step - loss: nan - acc: 0.0000e+00\n",
      "Epoch 97/100\n",
      "121085/121085 [==============================] - 2s 16us/step - loss: nan - acc: 0.0000e+00\n",
      "Epoch 98/100\n",
      "121085/121085 [==============================] - 2s 15us/step - loss: nan - acc: 0.0000e+00\n",
      "Epoch 99/100\n",
      "121085/121085 [==============================] - 2s 14us/step - loss: nan - acc: 0.0000e+00\n",
      "Epoch 100/100\n",
      "121085/121085 [==============================] - 2s 15us/step - loss: nan - acc: 0.0000e+00\n"
     ]
    },
    {
     "data": {
      "text/plain": [
       "<keras.callbacks.History at 0x1595e8cf8>"
      ]
     },
     "execution_count": 198,
     "metadata": {},
     "output_type": "execute_result"
    }
   ],
   "source": [
    "model.fit(x, y, epochs=100, batch_size=1000)"
   ]
  },
  {
   "cell_type": "code",
   "execution_count": 65,
   "metadata": {},
   "outputs": [
    {
     "name": "stdout",
     "output_type": "stream",
     "text": [
      "121085/121085 [==============================] - 3s 22us/step\n"
     ]
    }
   ],
   "source": [
    "scores = model.evaluate(x, y)"
   ]
  },
  {
   "cell_type": "code",
   "execution_count": 66,
   "metadata": {},
   "outputs": [
    {
     "name": "stdout",
     "output_type": "stream",
     "text": [
      "\n",
      "acc: 0.00%\n"
     ]
    }
   ],
   "source": [
    "print(\"\\n%s: %.2f%%\" % (model.metrics_names[1], scores[1]*100))"
   ]
  },
  {
   "cell_type": "code",
   "execution_count": null,
   "metadata": {},
   "outputs": [],
   "source": [
    "model.predict()"
   ]
  }
 ],
 "metadata": {
  "kernelspec": {
   "display_name": "Python 3",
   "language": "python",
   "name": "python3"
  },
  "language_info": {
   "codemirror_mode": {
    "name": "ipython",
    "version": 3
   },
   "file_extension": ".py",
   "mimetype": "text/x-python",
   "name": "python",
   "nbconvert_exporter": "python",
   "pygments_lexer": "ipython3",
   "version": "3.6.5"
  }
 },
 "nbformat": 4,
 "nbformat_minor": 2
}
